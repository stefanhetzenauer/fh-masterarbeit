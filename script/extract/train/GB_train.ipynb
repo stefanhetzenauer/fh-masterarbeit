{
 "cells": [
  {
   "cell_type": "code",
   "execution_count": null,
   "id": "latter-trade",
   "metadata": {},
   "outputs": [],
   "source": [
    "import pandas as pd\n",
    "import os\n",
    "import numpy as np\n",
    "from datetime import datetime\n",
    "\n",
    "from sklearn.model_selection import train_test_split\n",
    "from sklearn.metrics import confusion_matrix, accuracy_score\n",
    "from sklearn.ensemble import GradientBoostingClassifier\n",
    "from sklearn.model_selection import RandomizedSearchCV\n",
    "\n",
    "from scipy.stats import uniform as sp_randFloat\n",
    "from scipy.stats import randint as sp_randInt\n",
    "\n",
    "import pickle"
   ]
  },
  {
   "cell_type": "code",
   "execution_count": null,
   "id": "guided-enzyme",
   "metadata": {},
   "outputs": [],
   "source": [
    "BASE_PATH = ''"
   ]
  },
  {
   "cell_type": "code",
   "execution_count": null,
   "id": "exotic-administrator",
   "metadata": {},
   "outputs": [],
   "source": [
    "def split_data(df, split=0.3):\n",
    "  y = df['label']\n",
    "  X = df.drop(columns=['label'])\n",
    "  X_train, X_test, y_train, y_test = train_test_split(X, y, test_size=split)\n",
    "\n",
    "  return X_train, X_test, y_train, y_test"
   ]
  },
  {
   "cell_type": "code",
   "execution_count": null,
   "id": "double-width",
   "metadata": {},
   "outputs": [],
   "source": [
    "def create_balanced_dataset(df):\n",
    "    df_0 = df[df['label'] == 0]\n",
    "    df_1 = df[df['label'] == 1].sample(n=2500)\n",
    "    df_2 = df[df['label'] == 2].sample(n=2500)\n",
    "    \n",
    "    return pd.concat([df_0, df_1, df_2]).replace(2, 1)"
   ]
  },
  {
   "cell_type": "code",
   "execution_count": null,
   "id": "early-tomato",
   "metadata": {},
   "outputs": [],
   "source": [
    "def create_grid():\n",
    "    random_grid = {\n",
    "        'learning_rate': sp_randFloat(),\n",
    "        'subsample'    : sp_randFloat(),\n",
    "        'n_estimators' : sp_randInt(100, 1000),\n",
    "        'max_depth'    : sp_randInt(4, 10) \n",
    "    }\n",
    "    return random_grid"
   ]
  },
  {
   "cell_type": "code",
   "execution_count": null,
   "id": "lesser-breeding",
   "metadata": {},
   "outputs": [],
   "source": [
    "def load_data(path):\n",
    "  df = pd.read_csv(path, sep=';', encoding='utf-8')\n",
    "  return df"
   ]
  },
  {
   "cell_type": "code",
   "execution_count": null,
   "id": "mathematical-board",
   "metadata": {},
   "outputs": [],
   "source": [
    "def train(path, name, binary=False):    \n",
    "    if binary:\n",
    "        df = create_balanced_dataset(load_data(path))\n",
    "    else:\n",
    "        df = load_data(path)\n",
    "\n",
    "    X_train, X_test, y_train, y_test = split_data(df)\n",
    "\n",
    "    random_grid = create_grid()\n",
    "    \n",
    "    gb = GradientBoostingClassifier()\n",
    "    \n",
    "    gb_random = RandomizedSearchCV(\n",
    "        estimator=gb,\n",
    "        param_distributions=random_grid,\n",
    "        n_iter=5,\n",
    "        cv=3,\n",
    "        verbose=2,\n",
    "        random_state=161194,\n",
    "        n_jobs=-1\n",
    "    )\n",
    "    \n",
    "    gb_random.fit(X_train, y_train)\n",
    "    \n",
    "    print('Score: ', gb_random.best_score_)\n",
    "    print('Estimator: ', gb_random.best_estimator_)\n",
    "    \n",
    "    y_pred = gb_random.best_estimator_.predict(X_test)\n",
    "    \n",
    "    print(\"Accuracy: \", accuracy_score(y_test, y_pred))\n",
    "    \n",
    "    \n",
    "    cm = pd.DataFrame(confusion_matrix(y_test, y_pred))\n",
    "    cm_norm = pd.DataFrame(confusion_matrix(y_test, y_pred, normalize='true'))\n",
    "    \n",
    "    print(cm)\n",
    "    print(cm_norm)\n",
    "    \n",
    "    cm.to_csv(BASE_PATH + r'results-gb/' + name + 'cm.csv', sep=';', encoding='utf-8', index=False)\n",
    "    cm_norm.to_csv(BASE_PATH + r'results-gb/' + name + 'norm_cm.csv', sep=';', encoding='utf-8', index=False)\n",
    "    \n",
    "    with open(BASE_PATH + r'results-gb/' + f'{name}model.pkl', 'wb') as file:\n",
    "        pickle.dump(gb_random, file)"
   ]
  },
  {
   "cell_type": "code",
   "execution_count": null,
   "id": "strange-carrier",
   "metadata": {},
   "outputs": [],
   "source": [
    "%%time\n",
    "train(BASE_PATH + f'128_QF95-{DATASET_NAME}+.csv', f'GB_128_QF-95_{DATASET_NAME}_')"
   ]
  },
  {
   "cell_type": "code",
   "execution_count": null,
   "id": "sought-warrior",
   "metadata": {},
   "outputs": [],
   "source": [
    "%%time\n",
    "train(BASE_PATH + f'128_QF98-{DATASET_NAME}+.csv', f'GB_128_QF-98_{DATASET_NAME}_')"
   ]
  },
  {
   "cell_type": "code",
   "execution_count": null,
   "id": "comic-turkey",
   "metadata": {},
   "outputs": [],
   "source": [
    "%%time\n",
    "train(BASE_PATH + f'128_QF100-{DATASET_NAME}+.csv', f'GB_128_QF-100_{DATASET_NAME}_')"
   ]
  },
  {
   "cell_type": "code",
   "execution_count": null,
   "id": "major-complaint",
   "metadata": {},
   "outputs": [],
   "source": [
    "%%time\n",
    "train(BASE_PATH + f'64_QF95-{DATASET_NAME}+.csv', f'GB_64_QF-95_{DATASET_NAME}_')"
   ]
  },
  {
   "cell_type": "code",
   "execution_count": null,
   "id": "treated-colors",
   "metadata": {},
   "outputs": [],
   "source": [
    "%%time\n",
    "train(BASE_PATH + f'64_QF98-{DATASET_NAME}+.csv', f'GB_64_QF-98_{DATASET_NAME}_')"
   ]
  },
  {
   "cell_type": "code",
   "execution_count": null,
   "id": "accompanied-durham",
   "metadata": {},
   "outputs": [],
   "source": [
    "%%time\n",
    "train(BASE_PATH + f'64_QF100-{DATASET_NAME}+.csv', f'GB_64_QF-100_{DATASET_NAME}_')"
   ]
  },
  {
   "cell_type": "code",
   "execution_count": null,
   "id": "prepared-decline",
   "metadata": {},
   "outputs": [],
   "source": [
    "%%time\n",
    "train(BASE_PATH + f'64_asc-{DATASET_NAME}+.csv', f'GB_64_ASC_{DATASET_NAME}_')"
   ]
  },
  {
   "cell_type": "code",
   "execution_count": null,
   "id": "limited-absence",
   "metadata": {},
   "outputs": [],
   "source": [
    "%%time\n",
    "train(BASE_PATH + f'64_desc-{DATASET_NAME}+.csv', f'GB_64_DESC_{DATASET_NAME}_')"
   ]
  },
  {
   "cell_type": "code",
   "execution_count": null,
   "id": "potential-prairie",
   "metadata": {},
   "outputs": [],
   "source": [
    "%%time\n",
    "train(BASE_PATH + f'128_asc-{DATASET_NAME}+.csv', f'GB_128_ASC_{DATASET_NAME}_')"
   ]
  },
  {
   "cell_type": "code",
   "execution_count": null,
   "id": "thick-persian",
   "metadata": {},
   "outputs": [],
   "source": [
    "%%time\n",
    "train(BASE_PATH + f'128_desc-{DATASET_NAME}+.csv', f'GB_128_DESC_{DATASET_NAME}_')"
   ]
  }
 ],
 "metadata": {
  "kernelspec": {
   "display_name": "Python 3",
   "language": "python",
   "name": "python3"
  },
  "language_info": {
   "codemirror_mode": {
    "name": "ipython",
    "version": 3
   },
   "file_extension": ".py",
   "mimetype": "text/x-python",
   "name": "python",
   "nbconvert_exporter": "python",
   "pygments_lexer": "ipython3",
   "version": "3.8.8"
  }
 },
 "nbformat": 4,
 "nbformat_minor": 5
}