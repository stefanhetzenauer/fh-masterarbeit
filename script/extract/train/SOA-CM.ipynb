{
 "cells": [
  {
   "cell_type": "code",
   "execution_count": null,
   "id": "intended-generation",
   "metadata": {},
   "outputs": [],
   "source": [
    "# notebook to generate confusion matrizes and training graphs\n",
    "\n",
    "import pandas as pd\n",
    "import tensorflow as tf\n",
    "import os\n",
    "import numpy as np\n",
    "from datetime import datetime\n",
    "import csv\n",
    "\n",
    "from sklearn.model_selection import train_test_split\n",
    "from sklearn.metrics import confusion_matrix\n",
    "from sklearn.metrics import accuracy_score, precision_score, recall_score, classification_report\n",
    "\n",
    "import matplotlib.pyplot as plt\n",
    "import plotly.graph_objects as go\n",
    "from plotly.subplots import make_subplots\n",
    "import psutil\n",
    "\n",
    "fig.layout.font.family = 'Times New Roman'"
   ]
  },
  {
   "cell_type": "code",
   "execution_count": null,
   "id": "focal-opposition",
   "metadata": {},
   "outputs": [],
   "source": [
    "def read_and_prepare_data(path):\n",
    "    df = pd.read_csv(path, sep=';', encoding='utf-8')\n",
    "\n",
    "    y = df['label']\n",
    "    X = df.drop(columns=['label'])\n",
    "    \n",
    "    X_train, X_test, y_train, y_test = train_test_split(X, y, test_size=0.35, random_state=161194)\n",
    "    \n",
    "    train = X_train.astype('float32').to_numpy()\n",
    "    train = train.reshape(train.shape[0], train.shape[1], 1)\n",
    "    train_y = y_train.to_numpy()\n",
    "    \n",
    "    test = X_test.astype('float32').to_numpy()\n",
    "    test = test.reshape(test.shape[0], test.shape[1], 1)\n",
    "    test_y = y_test.to_numpy()\n",
    "    \n",
    "    return train, train_y, test, test_y"
   ]
  },
  {
   "cell_type": "code",
   "execution_count": null,
   "id": "thermal-southwest",
   "metadata": {},
   "outputs": [],
   "source": [
    "PATH_64_ASC_CSV = ''\n",
    "PATH_64_DESC_CSV = ''\n",
    "\n",
    "PATH_128_ASC_CSV = ''\n",
    "PATH_128_DESC_CSV = ''"
   ]
  },
  {
   "cell_type": "code",
   "execution_count": null,
   "id": "visible-paper",
   "metadata": {},
   "outputs": [],
   "source": [
    "PATH_64_95_CSV = ''\n",
    "PATH_64_98_CSV = ''\n",
    "PATH_64_100_CSV = ''\n",
    "\n",
    "PATH_128_95_CSV = ''\n",
    "PATH_128_98_CSV = ''\n",
    "PATH_128_100_CSV = ''"
   ]
  },
  {
   "cell_type": "code",
   "execution_count": null,
   "id": "curious-stewart",
   "metadata": {},
   "outputs": [],
   "source": [
    "PATH_64_ASC_MODEL = ''\n",
    "PATH_64_DESC_MODEL = ''\n",
    "\n",
    "PATH_128_ASC_MODEL = ''\n",
    "PATH_128_DESC_MODEL = ''"
   ]
  },
  {
   "cell_type": "code",
   "execution_count": null,
   "id": "final-representative",
   "metadata": {},
   "outputs": [],
   "source": [
    "PATH_64_95_MODEL = ''\n",
    "PATH_64_98_MODEL = ''\n",
    "PATH_64_100_MODEL = ''\n",
    "\n",
    "PATH_128_95_MODEL = ''\n",
    "PATH_128_98_MODEL = ''\n",
    "PATH_128_100_MODEL = ''"
   ]
  },
  {
   "cell_type": "code",
   "execution_count": null,
   "id": "parallel-monroe",
   "metadata": {},
   "outputs": [],
   "source": [
    "def get_confusion_matrix(path_csv, path_model, name, name_norm, name_acc):\n",
    "    model = tf.keras.models.load_model(path_model)\n",
    "    _, _, X_test, y_test = read_and_prepare_data(path_csv)\n",
    "    y_pred = model.predict(X_test)\n",
    "    y_pred = np.argmax(y_pred, axis=1)\n",
    "    \n",
    "    cm = pd.DataFrame(confusion_matrix(y_test, y_pred))\n",
    "    cm_norm = pd.DataFrame(confusion_matrix(y_test, y_pred, normalize='true'))\n",
    "    \n",
    "    cm.to_csv(path_model + '/' + name, sep=';', encoding='utf-8', index=False)\n",
    "    cm_norm.to_csv(path_model + '/' + name_norm, sep=';', encoding='utf-8', index=False)\n",
    "\n",
    "    acc = accuracy_score(y_test, y_pred)\n",
    "    \n",
    "    with open(path_model + '/' + name_acc, 'w') as csv_file:\n",
    "        csv_file.write(f'acc:{acc}')"
   ]
  },
  {
   "cell_type": "code",
   "execution_count": null,
   "id": "clinical-parent",
   "metadata": {},
   "outputs": [],
   "source": [
    "def get_training_graph(path_model, name):\n",
    "    train_path = path_model.replace('model', 'history_train.csv')\n",
    "    \n",
    "    df_train = pd.read_csv(train_path, sep=';', encoding='utf-8')\n",
    "    df_train = df_train.rename(columns={'Unnamed: 0': 'epochs'})\n",
    "    \n",
    "    fig = make_subplots(rows=2, cols=1)\n",
    "    fig.layout.font.family = 'Times New Roman'\n",
    "\n",
    "    fig.add_trace(go.Scatter(x=df_train['epochs'], y=df_train['accuracy'], name='Genauigkeit'), row=1, col=1)\n",
    "    fig.add_trace(go.Scatter(x=df_train['epochs'], y=df_train['val_accuracy'], name='Validierungsgenauigkeit'), row=1, col=1)\n",
    "\n",
    "    fig.add_trace(go.Scatter(x=df_train['epochs'], y=df_train['loss'], name='Verlust'), row=2, col=1)\n",
    "    fig.add_trace(go.Scatter(x=df_train['epochs'], y=df_train['val_loss'], name='Validierungsverlust'), row=2, col=1)\n",
    "\n",
    "    fig.write_image(path_model + '/' + name)"
   ]
  },
  {
   "cell_type": "code",
   "execution_count": null,
   "id": "every-following",
   "metadata": {},
   "outputs": [],
   "source": [
    "get_training_graph(PATH_64_ASC_MODEL, '64_asc.png')\n",
    "get_training_graph(PATH_64_DESC_MODEL, '64_desc.png')\n",
    "\n",
    "get_training_graph(PATH_64_95_MODEL, '64_95.png')\n",
    "get_training_graph(PATH_64_98_MODEL, '64_98.png')\n",
    "get_training_graph(PATH_64_100_MODEL, '64_100.png')"
   ]
  },
  {
   "cell_type": "code",
   "execution_count": null,
   "id": "labeled-compensation",
   "metadata": {},
   "outputs": [],
   "source": [
    "get_training_graph(PATH_128_ASC_MODEL, '128_asc.png')\n",
    "get_training_graph(PATH_128_DESC_MODEL, '128_desc.png')\n",
    "\n",
    "get_training_graph(PATH_128_95_MODEL, '128_95.png')\n",
    "get_training_graph(PATH_128_98_MODEL, '128_98.png')\n",
    "get_training_graph(PATH_128_100_MODEL, '128_100.png')"
   ]
  },
  {
   "cell_type": "code",
   "execution_count": null,
   "id": "significant-lafayette",
   "metadata": {},
   "outputs": [],
   "source": [
    "get_confusion_matrix(PATH_64_ASC_CSV, PATH_64_ASC_MODEL, '64_asc-cm.csv', '64_asc-cm-norm.csv', '64_asc-acc.txt')\n",
    "get_confusion_matrix(PATH_64_DESC_CSV, PATH_64_DESC_MODEL, '64_desc-cm.csv', '64_desc-cm-norm.csv', '64_desc-acc.txt')"
   ]
  },
  {
   "cell_type": "code",
   "execution_count": null,
   "id": "abroad-expression",
   "metadata": {},
   "outputs": [],
   "source": [
    "get_confusion_matrix(PATH_128_ASC_CSV, PATH_128_ASC_MODEL, '128_asc-cm.csv', '128_asc-cm-norm.csv', '128_asc-acc.txt')\n",
    "get_confusion_matrix(PATH_128_DESC_CSV, PATH_128_DESC_MODEL, '128_desc-cm.csv', '128_desc-cm-norm.csv', '128_desc-acc.txt')"
   ]
  },
  {
   "cell_type": "code",
   "execution_count": null,
   "id": "false-diving",
   "metadata": {},
   "outputs": [],
   "source": [
    "get_confusion_matrix(PATH_64_95_CSV, PATH_64_95_MODEL, '64_95-cm.csv', '64_95-cm-norm.csv', '64_95-acc.txt')\n",
    "get_confusion_matrix(PATH_64_98_CSV, PATH_64_98_MODEL, '64_98-cm.csv', '64_98-cm-norm.csv', '64_98-acc.txt')\n",
    "get_confusion_matrix(PATH_64_100_CSV, PATH_64_100_MODEL, '64_100-cm.csv', '64_100-cm-norm.csv', '64_100-acc.txt')"
   ]
  },
  {
   "cell_type": "code",
   "execution_count": null,
   "id": "norman-relation",
   "metadata": {},
   "outputs": [],
   "source": [
    "get_confusion_matrix(PATH_128_95_CSV, PATH_128_95_MODEL, '128_95-cm.csv', '128_95-cm-norm.csv', '128_95-acc.txt')\n",
    "get_confusion_matrix(PATH_128_98_CSV, PATH_128_98_MODEL, '128_98-cm.csv', '128_98-cm-norm.csv', '128_98-acc.txt')\n",
    "get_confusion_matrix(PATH_128_100_CSV, PATH_128_100_MODEL, '128_100-cm.csv', '128_100-cm-norm.csv', '128_100-acc.txt')"
   ]
  }
 ],
 "metadata": {
  "kernelspec": {
   "display_name": "Python 3",
   "language": "python",
   "name": "python3"
  },
  "language_info": {
   "codemirror_mode": {
    "name": "ipython",
    "version": 3
   },
   "file_extension": ".py",
   "mimetype": "text/x-python",
   "name": "python",
   "nbconvert_exporter": "python",
   "pygments_lexer": "ipython3",
   "version": "3.9.2"
  }
 },
 "nbformat": 4,
 "nbformat_minor": 5
}