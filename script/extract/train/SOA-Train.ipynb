{
 "cells": [
  {
   "cell_type": "code",
   "execution_count": null,
   "id": "retired-parts",
   "metadata": {},
   "outputs": [],
   "source": [
    "import pandas as pd\n",
    "import tensorflow as tf\n",
    "import os\n",
    "import numpy as np\n",
    "from datetime import datetime\n",
    "\n",
    "from sklearn.model_selection import train_test_split"
   ]
  },
  {
   "cell_type": "code",
   "execution_count": null,
   "id": "trained-cornell",
   "metadata": {},
   "outputs": [],
   "source": [
    "BASE_PATH_SOA = ''"
   ]
  },
  {
   "cell_type": "code",
   "execution_count": null,
   "id": "leading-learning",
   "metadata": {},
   "outputs": [],
   "source": [
    "def build_model():\n",
    "    model = tf.keras.Sequential([\n",
    "        tf.keras.layers.Conv1D(256, kernel_size=3, strides=1, input_shape=(2230, 1), activation=None),\n",
    "        tf.keras.layers.BatchNormalization(),\n",
    "        tf.keras.layers.Activation('relu'),\n",
    "        tf.keras.layers.MaxPooling1D(pool_size=2, strides=2),\n",
    "        tf.keras.layers.Dropout(.1),\n",
    "        tf.keras.layers.Conv1D(256, kernel_size=3, strides=1, activation=None),\n",
    "        tf.keras.layers.BatchNormalization(),\n",
    "        tf.keras.layers.Activation('relu'),\n",
    "        tf.keras.layers.MaxPooling1D(pool_size=2, strides=2),\n",
    "        tf.keras.layers.Dropout(.1),\n",
    "        tf.keras.layers.Conv1D(256, kernel_size=3, strides=1, activation=None),\n",
    "        tf.keras.layers.BatchNormalization(),\n",
    "        tf.keras.layers.Activation('relu'),\n",
    "        tf.keras.layers.MaxPooling1D(pool_size=2, strides=2),\n",
    "        tf.keras.layers.Dropout(.1),\n",
    "        tf.keras.layers.Conv1D(256, kernel_size=3, strides=1, activation=None),\n",
    "        tf.keras.layers.BatchNormalization(),\n",
    "        tf.keras.layers.Activation('relu'),\n",
    "        tf.keras.layers.MaxPooling1D(pool_size=2, strides=2),\n",
    "        tf.keras.layers.Dropout(.1),\n",
    "        tf.keras.layers.Flatten(),\n",
    "        tf.keras.layers.Dense(512),\n",
    "        tf.keras.layers.BatchNormalization(),\n",
    "        tf.keras.layers.Activation('relu'),\n",
    "        tf.keras.layers.Dropout(.2),\n",
    "        tf.keras.layers.Dense(512),\n",
    "        tf.keras.layers.BatchNormalization(),\n",
    "        tf.keras.layers.Activation('relu'),\n",
    "        tf.keras.layers.Dropout(.2),\n",
    "        tf.keras.layers.Dense(3, activation='softmax')\n",
    "    ])\n",
    "    opt = tf.keras.optimizers.Adam(learning_rate=0.0001)\n",
    "    model.compile(loss='sparse_categorical_crossentropy', optimizer=opt, metrics=['accuracy'])\n",
    "    return model"
   ]
  },
  {
   "cell_type": "code",
   "execution_count": null,
   "id": "irish-physics",
   "metadata": {},
   "outputs": [],
   "source": [
    "def read_and_prepare_data(path):\n",
    "    df = pd.read_csv(path, sep=';', encoding='utf-8')\n",
    "\n",
    "    y = df['label']\n",
    "    X = df.drop(columns=['label'])\n",
    "    \n",
    "    X_train, X_test, y_train, y_test = train_test_split(X, y, test_size=0.35, random_state=161194)\n",
    "    \n",
    "    train = X_train.astype('float32').to_numpy()\n",
    "    train = train.reshape(train.shape[0], train.shape[1], 1)\n",
    "    train_y = y_train.to_numpy()\n",
    "    \n",
    "    test = X_test.astype('float32').to_numpy()\n",
    "    test = test.reshape(test.shape[0], test.shape[1], 1)\n",
    "    test_y = y_test.to_numpy()\n",
    "    \n",
    "    return train, train_y, test, test_y"
   ]
  },
  {
   "cell_type": "code",
   "execution_count": null,
   "id": "unique-halifax",
   "metadata": {},
   "outputs": [],
   "source": [
    "class CustomStopper(tf.keras.callbacks.EarlyStopping):\n",
    "    def __init__(self, monitor='val_loss',\n",
    "             min_delta=0, patience=0, verbose=0, mode='auto', start_epoch = 15): # add argument for starting epoch\n",
    "        super(CustomStopper, self).__init__()\n",
    "        self.start_epoch = start_epoch\n",
    "\n",
    "    def on_epoch_end(self, epoch, logs=None):\n",
    "        if epoch > self.start_epoch:\n",
    "            super().on_epoch_end(epoch, logs)"
   ]
  },
  {
   "cell_type": "code",
   "execution_count": null,
   "id": "bronze-midwest",
   "metadata": {},
   "outputs": [],
   "source": [
    "def train(path, name, epochs=60):\n",
    "    X_train, y_train, X_test, y_test = read_and_prepare_data(path)\n",
    "    \n",
    "    logdir = os.path.join(BASE_PATH_SOA, \"logs\", name + datetime.now().strftime(\"%Y%m%d-%H%M%S\"))\n",
    "    \n",
    "    model = build_model()\n",
    "    \n",
    "    tensorboard_callback = tf.keras.callbacks.TensorBoard(logdir, histogram_freq=1)\n",
    "    early_stopping_callback = CustomStopper(monitor='val_loss', patience=5)\n",
    "    history = model.fit(\n",
    "        X_train,\n",
    "        y_train,\n",
    "        epochs=epochs,\n",
    "        batch_size=32,\n",
    "        validation_split=0.2,\n",
    "        callbacks=[tensorboard_callback, early_stopping_callback]\n",
    "    )\n",
    "    \n",
    "    model.save(logdir + '/model')\n",
    "    \n",
    "    pd.DataFrame(history.history).to_csv(logdir + '/history_train.csv', sep=';', encoding='utf-8')\n",
    "\n",
    "    history_eval = model.evaluate(X_test, y_test)\n",
    "\n",
    "    pd.DataFrame(history_eval).to_csv(logdir + '/history_eval.csv', sep=';', encoding='utf-8')\n",
    "    \n",
    "    return model, history"
   ]
  },
  {
   "cell_type": "code",
   "execution_count": null,
   "id": "worst-globe",
   "metadata": {},
   "outputs": [],
   "source": [
    "model, history = train(BASE_PATH_SOA + '64_QF95-SOA.csv', '64_QF95-SOA_')"
   ]
  },
  {
   "cell_type": "code",
   "execution_count": null,
   "id": "norwegian-intermediate",
   "metadata": {},
   "outputs": [],
   "source": [
    "model, history = train(BASE_PATH_SOA + '64_QF98-SOA.csv', '64_QF98-SOA_')"
   ]
  },
  {
   "cell_type": "code",
   "execution_count": null,
   "id": "headed-addiction",
   "metadata": {},
   "outputs": [],
   "source": [
    "model, history = train(BASE_PATH_SOA + '64_QF100-SOA.csv', '64_QF100-SOA_')"
   ]
  },
  {
   "cell_type": "code",
   "execution_count": null,
   "id": "abstract-shadow",
   "metadata": {},
   "outputs": [],
   "source": [
    "model, history = train(BASE_PATH_SOA + '128_QF95-SOA.csv', '128_QF95-SOA_')"
   ]
  },
  {
   "cell_type": "code",
   "execution_count": null,
   "id": "straight-estate",
   "metadata": {},
   "outputs": [],
   "source": [
    "model, history = train(BASE_PATH_SOA + '128_QF98-SOA.csv', '128_QF98-SOA_')"
   ]
  },
  {
   "cell_type": "code",
   "execution_count": null,
   "id": "certified-apartment",
   "metadata": {},
   "outputs": [],
   "source": [
    "model, history = train(BASE_PATH_SOA + '128_QF100-SOA.csv', '128_QF100-SOA_')"
   ]
  },
  {
   "cell_type": "code",
   "execution_count": null,
   "id": "natural-classification",
   "metadata": {},
   "outputs": [],
   "source": [
    "model, history = train(BASE_PATH_SOA + '64_asc-SOA.csv', '64_ASC-SOA_', 15)"
   ]
  },
  {
   "cell_type": "code",
   "execution_count": null,
   "id": "removable-eclipse",
   "metadata": {},
   "outputs": [],
   "source": [
    "model, history = train(BASE_PATH_SOA + '64_desc-SOA.csv', '64_DESC-SOA_', 15)"
   ]
  },
  {
   "cell_type": "code",
   "execution_count": null,
   "id": "blond-czech",
   "metadata": {},
   "outputs": [],
   "source": [
    "model, history = train(BASE_PATH_SOA + '128_asc-SOA.csv', '128_ASC-SOA_', 15)"
   ]
  },
  {
   "cell_type": "code",
   "execution_count": null,
   "id": "demographic-removal",
   "metadata": {},
   "outputs": [],
   "source": [
    "model, history = train(BASE_PATH_SOA + '128_desc-SOA.csv', '128_DESC-SOA_', 15)"
   ]
  }
 ],
 "metadata": {
  "kernelspec": {
   "display_name": "Python 3",
   "language": "python",
   "name": "python3"
  },
  "language_info": {
   "codemirror_mode": {
    "name": "ipython",
    "version": 3
   },
   "file_extension": ".py",
   "mimetype": "text/x-python",
   "name": "python",
   "nbconvert_exporter": "python",
   "pygments_lexer": "ipython3",
   "version": "3.8.8"
  }
 },
 "nbformat": 4,
 "nbformat_minor": 5
}