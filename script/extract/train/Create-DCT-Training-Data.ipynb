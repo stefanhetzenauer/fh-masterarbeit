{
 "cells": [
  {
   "cell_type": "code",
   "execution_count": null,
   "id": "general-uncle",
   "metadata": {},
   "outputs": [],
   "source": [
    "import os\n",
    "import pandas as pd\n",
    "from datetime import datetime\n",
    "from tqdm import tqdm"
   ]
  },
  {
   "cell_type": "code",
   "execution_count": null,
   "id": "satisfied-tuning",
   "metadata": {},
   "outputs": [],
   "source": [
    "BASE_PATH = r'' # path to parent folder\n",
    "\n",
    "PATH_64_ASC = ['64x64_QF1-95_1', '64x64_QF1-95-QF2-98_2', '64x64_QF1-95-QF2-98_2_QF3-100']\n",
    "PATH_64_DESC = ['64x64_QF1-100_1', '64x64_QF1-100-QF2-98_2', '64x64_QF1-100-QF2-98_2_QF3-95']\n",
    "\n",
    "PATH_128_ASC = ['128x128_QF1-95_1', '128x128_QF1-95-QF2-98_2', '128x128_QF1-95-QF2-98_2_QF3-100']\n",
    "PATH_128_DESC = ['128x128_QF1-100_1', '128x128_QF1-100-QF2-98_2', '128x128_QF1-100-QF2-98_2_QF3-95']\n",
    "\n",
    "PATH_256_ASC = ['256x256_QF1-95_1', '256x256_QF1-95-QF2-98_2', '256x256_QF1-95-QF2-98_2_QF3-100']\n",
    "PATH_256_DESC = ['256x256_QF1-100_1', '256x256_QF1-100-QF2-98_2', '256x256_QF1-100-QF2-98_2_QF3-95']"
   ]
  },
  {
   "cell_type": "code",
   "execution_count": null,
   "id": "generic-nightlife",
   "metadata": {},
   "outputs": [],
   "source": [
    "def load_data(path, label):\n",
    "    files = os.listdir(path)\n",
    "    full_df = pd.DataFrame()\n",
    "    for file in tqdm(files):\n",
    "        df = pd.read_csv(path + r'/' + file, sep=';', encoding='utf-8')\n",
    "        df.label = label\n",
    "        full_df = full_df.append(df)\n",
    "        \n",
    "        del df\n",
    "    return full_df"
   ]
  },
  {
   "cell_type": "code",
   "execution_count": null,
   "id": "heavy-bicycle",
   "metadata": {},
   "outputs": [],
   "source": [
    "def create_training_csv(paths, filename):\n",
    "    df_1 = load_data(BASE_PATH + paths[0], 0)\n",
    "    df_2 = load_data(BASE_PATH + paths[1], 1)\n",
    "    df_3 = load_data(BASE_PATH + paths[2], 2)\n",
    "    \n",
    "    full_df = df_1.append(df_2.append(df_3))\n",
    "    \n",
    "    full_df.to_csv(BASE_PATH + filename, sep=';', encoding='utf-8', index=False)\n",
    "    "
   ]
  },
  {
   "cell_type": "code",
   "execution_count": null,
   "id": "plastic-orientation",
   "metadata": {},
   "outputs": [],
   "source": [
    "create_training_csv(PATH_256_DESC, '256_desc.csv') # example call"
   ]
  }
 ],
 "metadata": {
  "kernelspec": {
   "display_name": "Python 3",
   "language": "python",
   "name": "python3"
  },
  "language_info": {
   "codemirror_mode": {
    "name": "ipython",
    "version": 3
   },
   "file_extension": ".py",
   "mimetype": "text/x-python",
   "name": "python",
   "nbconvert_exporter": "python",
   "pygments_lexer": "ipython3",
   "version": "3.8.8"
  }
 },
 "nbformat": 4,
 "nbformat_minor": 5
}