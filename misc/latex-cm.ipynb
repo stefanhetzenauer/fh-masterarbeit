{
 "cells": [
  {
   "cell_type": "code",
   "execution_count": 49,
   "id": "cross-coast",
   "metadata": {},
   "outputs": [],
   "source": [
    "import os\n",
    "from string import Template\n",
    "import pandas as pd\n",
    "import clipboard"
   ]
  },
  {
   "cell_type": "code",
   "execution_count": 72,
   "id": "regulated-membrane",
   "metadata": {},
   "outputs": [],
   "source": [
    "def create_latex_string(path, label, desc):\n",
    "    df = pd.read_csv(path, sep=';', encoding='utf-8')\n",
    "    latex = Template('''\n",
    "\\\\begin{table}[]\n",
    "\\centering\n",
    "\\\\begin{tabular}{l|l|l|l|}\n",
    "\\cline{2-4}\n",
    "                                     & 1x komprimiert & 2x komprimiert & 3x komprimiert \\\\\\\\ \\hline\n",
    "\\multicolumn{1}{|l|}{1x komprimiert} & $one          & $two          & $three          \\\\\\\\ \\hline\n",
    "\\multicolumn{1}{|l|}{2x komprimiert} & $four          & $five          & $six          \\\\\\\\ \\hline\n",
    "\\multicolumn{1}{|l|}{3x komprimiert} & $seven          & $eight          & $nine          \\\\\\\\ \\hline\n",
    "\\end{tabular}\n",
    "\\caption{$desc}\n",
    "\\label{$label}\n",
    "\\end{table}\n",
    "    ''')\n",
    "    fin = latex.substitute(\n",
    "        one=df['0'][0],\n",
    "        two=df['1'][0],\n",
    "        three=df['2'][0],\n",
    "        four=df['0'][1],\n",
    "        five=df['1'][1],\n",
    "        six=df['2'][1],\n",
    "        seven=df['0'][2],\n",
    "        eight=df['1'][2],\n",
    "        nine=df['2'][2],\n",
    "        desc=desc,\n",
    "        label=label\n",
    "    )\n",
    "    return fin"
   ]
  },
  {
   "cell_type": "code",
   "execution_count": 156,
   "id": "statistical-agency",
   "metadata": {},
   "outputs": [
    {
     "name": "stdout",
     "output_type": "stream",
     "text": [
      "\n",
      "\\begin{table}[]\n",
      "\\centering\n",
      "\\begin{tabular}{l|l|l|l|}\n",
      "\\cline{2-4}\n",
      "                                     & 1x komprimiert & 2x komprimiert & 3x komprimiert \\\\ \\hline\n",
      "\\multicolumn{1}{|l|}{1x komprimiert} & 0.400405131667792          & 0.3943281566509115          & 0.2052667116812964          \\\\ \\hline\n",
      "\\multicolumn{1}{|l|}{2x komprimiert} & 0.2346594740391099          & 0.6095751854349292          & 0.1557653405259609          \\\\ \\hline\n",
      "\\multicolumn{1}{|l|}{3x komprimiert} & 0.2174479166666666          & 0.16015625          & 0.6223958333333334          \\\\ \\hline\n",
      "\\end{tabular}\n",
      "\\caption{Normalisierte Konfusionsmatrix des Random Forest Modells mit 64x64 großen Bildern, welche mit gleichen QFdesc komprimiert wurden.}\n",
      "\\label{tab:soaplus:RF_64-desc}\n",
      "\\end{table}\n",
      "    \n"
     ]
    }
   ],
   "source": [
    "size = 64\n",
    "qf = 'desc'\n",
    "model = 'RF'\n",
    "latex = create_latex_string(\n",
    "    path=f'SOA+/{model}/{size}/{qf}/{model}_{size}_{qf.upper()}_own-soa_norm_cm.csv',\n",
    "    label=f'tab:soaplus:{model}_{size}-{qf}',\n",
    "    desc=f'Normalisierte Konfusionsmatrix des Random Forest Modells mit {size}x{size} großen Bildern, welche mit gleichen QF{qf} komprimiert wurden.'\n",
    ")\n",
    "print(latex)"
   ]
  }
 ],
 "metadata": {
  "kernelspec": {
   "display_name": "Python 3",
   "language": "python",
   "name": "python3"
  },
  "language_info": {
   "codemirror_mode": {
    "name": "ipython",
    "version": 3
   },
   "file_extension": ".py",
   "mimetype": "text/x-python",
   "name": "python",
   "nbconvert_exporter": "python",
   "pygments_lexer": "ipython3",
   "version": "3.9.2"
  }
 },
 "nbformat": 4,
 "nbformat_minor": 5
}
